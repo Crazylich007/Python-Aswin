{
 "cells": [
  {
   "cell_type": "code",
   "execution_count": 47,
   "metadata": {},
   "outputs": [
    {
     "name": "stdout",
     "output_type": "stream",
     "text": [
      "1,as,25,ch\n",
      "2,ta,24,wd\n",
      "3,ed,24,me\n",
      "\n"
     ]
    }
   ],
   "source": [
    "with open ('data.txt','r') as file:\n",
    "    entry=file.read()\n",
    "    print(entry)"
   ]
  },
  {
   "cell_type": "code",
   "execution_count": 40,
   "metadata": {},
   "outputs": [
    {
     "name": "stdout",
     "output_type": "stream",
     "text": [
      "['1,as,25,ch', '2,ta,24,wd', '3,ed,24,me']\n"
     ]
    }
   ],
   "source": [
    "rows = entry.split()\n",
    "print(rows)"
   ]
  },
  {
   "cell_type": "code",
   "execution_count": 41,
   "metadata": {},
   "outputs": [
    {
     "name": "stdout",
     "output_type": "stream",
     "text": [
      "{1: {'name': 'as', 'age': '25', 'address': 'ch'}, 2: {'name': 'ta', 'age': '24', 'address': 'wd'}, 3: {'name': 'ed', 'age': '24', 'address': 'me'}}\n"
     ]
    }
   ],
   "source": [
    "nested_dict={}\n",
    "for j in rows:\n",
    "    serial, name, age, address = j.split(',')\n",
    "    \n",
    "    nested_dict[int(serial)] = {\"name\": name,\"age\": age,\"address\": address}\n",
    "print(nested_dict)"
   ]
  },
  {
   "cell_type": "code",
   "execution_count": 30,
   "metadata": {},
   "outputs": [
    {
     "name": "stdout",
     "output_type": "stream",
     "text": [
      "45\n"
     ]
    }
   ],
   "source": [
    "xlist=[]\n",
    "for i in rows:\n",
    "    elements = i.split(',')\n",
    "    xlist.append(elements)\n",
    "print(xlist[2][2])"
   ]
  }
 ],
 "metadata": {
  "kernelspec": {
   "display_name": "Python 3",
   "language": "python",
   "name": "python3"
  },
  "language_info": {
   "codemirror_mode": {
    "name": "ipython",
    "version": 3
   },
   "file_extension": ".py",
   "mimetype": "text/x-python",
   "name": "python",
   "nbconvert_exporter": "python",
   "pygments_lexer": "ipython3",
   "version": "3.12.5"
  }
 },
 "nbformat": 4,
 "nbformat_minor": 2
}
